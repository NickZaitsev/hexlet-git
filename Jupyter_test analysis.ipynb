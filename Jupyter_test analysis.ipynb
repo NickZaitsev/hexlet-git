{
  "metadata": {
    "language_info": {
      "codemirror_mode": {
        "name": "python",
        "version": 3
      },
      "file_extension": ".py",
      "mimetype": "text/x-python",
      "name": "python",
      "nbconvert_exporter": "python",
      "pygments_lexer": "ipython3",
      "version": "3.8"
    },
    "kernelspec": {
      "name": "python",
      "display_name": "Python (Pyodide)",
      "language": "python"
    },
    "toc-showcode": false,
    "toc-showmarkdowntxt": false,
    "toc-autonumbering": true
  },
  "nbformat_minor": 4,
  "nbformat": 4,
  "cells": [
    {
      "cell_type": "markdown",
      "source": "# **Отработка функций**",
      "metadata": {
        "tags": []
      }
    },
    {
      "cell_type": "markdown",
      "source": "## *Подключение модулей*",
      "metadata": {
        "tags": []
      }
    },
    {
      "cell_type": "markdown",
      "source": "Не все модули подключились из-за ограниченной функциональности JupyterLite.\nЧерез Anaconda подключаются все модули для аналитики.",
      "metadata": {
        "tags": []
      }
    },
    {
      "cell_type": "code",
      "source": "import pandas as pd\nimport matplotlib.pyplot as plt\n#import seaborn as sns\n#sns.set(style=\"darkgrid\")",
      "metadata": {
        "tags": [],
        "trusted": true
      },
      "execution_count": null,
      "outputs": []
    },
    {
      "cell_type": "markdown",
      "source": "## *Занесение данных в переменную df*",
      "metadata": {}
    },
    {
      "cell_type": "code",
      "source": "df = pd.read_csv('fortune500.csv')",
      "metadata": {
        "tags": [],
        "trusted": true
      },
      "execution_count": null,
      "outputs": []
    },
    {
      "cell_type": "markdown",
      "source": "Просмотр первых строк **df.head(3)**, где 3 - это количество строк.\nПросмотр последних строк **df.tail(3)** ",
      "metadata": {}
    },
    {
      "cell_type": "code",
      "source": "df.head(3)",
      "metadata": {
        "tags": [],
        "trusted": true
      },
      "execution_count": null,
      "outputs": []
    },
    {
      "cell_type": "markdown",
      "source": "## *Переименование столбцов*",
      "metadata": {}
    },
    {
      "cell_type": "markdown",
      "source": "Переименовываем столбы для удобства обращения:",
      "metadata": {}
    },
    {
      "cell_type": "code",
      "source": "df.columns = ['year', 'rank', 'company', 'revenue', 'profit']",
      "metadata": {
        "tags": [],
        "trusted": true
      },
      "execution_count": null,
      "outputs": []
    },
    {
      "cell_type": "markdown",
      "source": "## *Проверка целостности, типов данных*",
      "metadata": {
        "tags": []
      }
    },
    {
      "cell_type": "code",
      "source": "len(df)",
      "metadata": {
        "trusted": true
      },
      "execution_count": null,
      "outputs": []
    },
    {
      "cell_type": "code",
      "source": "df.dtypes",
      "metadata": {
        "trusted": true
      },
      "execution_count": null,
      "outputs": []
    },
    {
      "cell_type": "markdown",
      "source": "",
      "metadata": {
        "tags": [],
        "jupyter": {
          "source_hidden": true
        }
      }
    },
    {
      "cell_type": "markdown",
      "source": "Столбец **profit** должен быть типа float. Требуется найти все строки, в которых указаны неверные типы данных.\nВ переменную **non_numberic_profits** заносим строки, в которых значение столбцов **profit** согласно RegEx:",
      "metadata": {}
    },
    {
      "cell_type": "code",
      "source": "non_numberic_profits = df.profit.str.contains('[^0-9.-]')\ndf.loc[non_numberic_profits].head()",
      "metadata": {
        "trusted": true
      },
      "execution_count": null,
      "outputs": []
    },
    {
      "cell_type": "code",
      "source": "set(df.profit[non_numberic_profits])",
      "metadata": {
        "trusted": true
      },
      "execution_count": null,
      "outputs": []
    },
    {
      "cell_type": "code",
      "source": "len(df.profit[non_numberic_profits])",
      "metadata": {
        "trusted": true
      },
      "execution_count": null,
      "outputs": []
    },
    {
      "cell_type": "markdown",
      "source": "После анализа - удаление строк с N.A.:",
      "metadata": {}
    },
    {
      "cell_type": "code",
      "source": "df = df.loc[~non_numberic_profits]\ndf.profit = df.profit.apply(pd.to_numeric)",
      "metadata": {
        "tags": [],
        "trusted": true
      },
      "execution_count": null,
      "outputs": []
    },
    {
      "cell_type": "markdown",
      "source": "Строим график:",
      "metadata": {}
    },
    {
      "cell_type": "code",
      "source": "group_by_year = df.loc[:, ['year', 'revenue', 'profit']].groupby('year')\n\navgs = group_by_year.mean()\nx = avgs.index\ny1 = avgs.profit\n\ndef plot(x, y, ax, title, y_label):\n    ax.set_title(title)\n    ax.set_ylabel(y_label)\n    ax.plot(x, y)\n    ax.margins(x=0, y=0)",
      "metadata": {
        "trusted": true
      },
      "execution_count": null,
      "outputs": []
    },
    {
      "cell_type": "code",
      "source": "fig, ax = plt.subplots()\nplot(x, y1, ax, 'Increase in mean Fortune 500 company profits from 1955 to 2005', 'Profit (millions)')",
      "metadata": {
        "trusted": true
      },
      "execution_count": null,
      "outputs": []
    },
    {
      "cell_type": "markdown",
      "source": "График доходов:",
      "metadata": {
        "tags": []
      }
    },
    {
      "cell_type": "code",
      "source": "y2 = avgs.revenue\nfig, ax = plt.subplots()\nplot(x, y2, ax, 'Increase in mean Fortune 500 company revenues from 1955 to 2005', 'Revenue (millions)')",
      "metadata": {
        "trusted": true
      },
      "execution_count": null,
      "outputs": []
    },
    {
      "cell_type": "markdown",
      "source": "С небольшой помощью Stack Overflow мы можем наложить эти графики с +/- их стандартными отклонениями:",
      "metadata": {
        "tags": []
      }
    },
    {
      "cell_type": "code",
      "source": "def plot_with_std(x, y, stds, ax, title, y_label):\n    ax.fill_between(x, y - stds, y + stds, alpha=0.2)\n    plot(x, y, ax, title, y_label)\n\nfig, (ax1, ax2) = plt.subplots(ncols=2)\ntitle = 'Increase in mean and std Fortune 500 company %s from 1955 to 2005'\nstds1 = group_by_year.std().profit.values\nstds2 = group_by_year.std().revenue.values\n\nplot_with_std(x, y1.values, stds1, ax1, title % 'profits', 'Profit (millions)')\nplot_with_std(x, y2.values, stds2, ax2, title % 'revenues', 'Revenue (millions)')\n\nfig.set_size_inches(14, 4)\nfig.tight_layout()",
      "metadata": {
        "trusted": true
      },
      "execution_count": null,
      "outputs": []
    }
  ]
}